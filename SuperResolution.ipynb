{
 "metadata": {
  "language_info": {
   "codemirror_mode": {
    "name": "ipython",
    "version": 3
   },
   "file_extension": ".py",
   "mimetype": "text/x-python",
   "name": "python",
   "nbconvert_exporter": "python",
   "pygments_lexer": "ipython3",
   "version": "3.7.9"
  },
  "orig_nbformat": 2,
  "kernelspec": {
   "name": "python379jvsc74a57bd02f1619478b292860c96fac5ef16bc812fce47c62f462ae75616a175adb641b2c",
   "display_name": "Python 3.7.9 64-bit ('base': conda)"
  }
 },
 "nbformat": 4,
 "nbformat_minor": 2,
 "cells": [
  {
   "source": [
    "# Image Super-Resolution & Deep Learning"
   ],
   "cell_type": "markdown",
   "metadata": {}
  },
  {
   "cell_type": "code",
   "execution_count": 1,
   "metadata": {},
   "outputs": [],
   "source": [
    "import cv2\n",
    "from cv2 import dnn_superres #SR interface codes\n",
    "import os\n",
    "import numpy as np\n",
    "from tqdm import tqdm # cool progress bar"
   ]
  },
  {
   "source": [
    "## 1. OpenCV library  \n",
    "\n",
    "See: https://towardsdatascience.com/deep-learning-based-super-resolution-with-opencv-4fd736678066"
   ],
   "cell_type": "markdown",
   "metadata": {}
  },
  {
   "cell_type": "code",
   "execution_count": 3,
   "metadata": {},
   "outputs": [
    {
     "output_type": "error",
     "ename": "error",
     "evalue": "OpenCV(4.5.2) ..\\modules\\core\\src\\matrix_wrap.cpp:1286: error: (-215:Assertion failed) !(m.empty() && fixedType() && fixedSize()) && \"Can't reallocate empty Mat with locked layout (probably due to misused 'const' modifier)\" in function 'cv::_OutputArray::create'\n",
     "traceback": [
      "\u001b[1;31m---------------------------------------------------------------------------\u001b[0m",
      "\u001b[1;31merror\u001b[0m                                     Traceback (most recent call last)",
      "\u001b[1;32m<ipython-input-3-4257dd2b6e2b>\u001b[0m in \u001b[0;36m<module>\u001b[1;34m\u001b[0m\n\u001b[0;32m     13\u001b[0m \u001b[1;33m\u001b[0m\u001b[0m\n\u001b[0;32m     14\u001b[0m \u001b[1;31m# Upscale the image\u001b[0m\u001b[1;33m\u001b[0m\u001b[1;33m\u001b[0m\u001b[1;33m\u001b[0m\u001b[0m\n\u001b[1;32m---> 15\u001b[1;33m \u001b[0mresult\u001b[0m \u001b[1;33m=\u001b[0m \u001b[0msr\u001b[0m\u001b[1;33m.\u001b[0m\u001b[0mupsample\u001b[0m\u001b[1;33m(\u001b[0m\u001b[0mimage\u001b[0m\u001b[1;33m)\u001b[0m\u001b[1;33m\u001b[0m\u001b[1;33m\u001b[0m\u001b[0m\n\u001b[0m\u001b[0;32m     16\u001b[0m \u001b[1;33m\u001b[0m\u001b[0m\n\u001b[0;32m     17\u001b[0m \u001b[1;31m# Save the image\u001b[0m\u001b[1;33m\u001b[0m\u001b[1;33m\u001b[0m\u001b[1;33m\u001b[0m\u001b[0m\n",
      "\u001b[1;31merror\u001b[0m: OpenCV(4.5.2) ..\\modules\\core\\src\\matrix_wrap.cpp:1286: error: (-215:Assertion failed) !(m.empty() && fixedType() && fixedSize()) && \"Can't reallocate empty Mat with locked layout (probably due to misused 'const' modifier)\" in function 'cv::_OutputArray::create'\n"
     ]
    }
   ],
   "source": [
    "# Create an SR object\n",
    "sr = dnn_superres.DnnSuperResImpl_create()\n",
    "\n",
    "# Read image\n",
    "image = cv2.imread('D:\\MJCJ research\\Hollows_in_walls\\Hollows_in_walls\\Images\\PIA15327.tif', cv2.IMREAD_UNCHANGED)\n",
    "\n",
    "# Read the desired model\n",
    "path = \"FSRCNN_x2.pb\"\n",
    "sr.readModel(path)\n",
    "\n",
    "# Set the desired model and scale to get correct pre- and post-processing\n",
    "sr.setModel(\"fsrcnn\", 2)\n",
    "\n",
    "# Upscale the image\n",
    "result = sr.upsample(image)\n",
    "\n",
    "# Save the image\n",
    "cv2.imwrite(\"./upscaled.png\", result)"
   ]
  }
 ]
}